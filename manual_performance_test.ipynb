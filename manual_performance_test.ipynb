{
 "cells": [
  {
   "cell_type": "markdown",
   "metadata": {},
   "source": [
    "# LETS DO THIS\n",
    "\n",
    "OK, let's do this. First we need to import the necessary modules and initialize 2 separate models - the Unicycle-based unrolled model and the standard FC model. Let's do that."
   ]
  },
  {
   "cell_type": "code",
   "execution_count": 1,
   "metadata": {
    "collapsed": false
   },
   "outputs": [],
   "source": [
    "# Import the necessary modules\n",
    "import tensorflow as tf\n",
    "import sys\n",
    "sys.path.append('model')\n",
    "from unicycle import mnist_benchmark, mnist_tfutils, Unicycle\n",
    "import matplotlib\n",
    "from tensorflow.examples.tutorials.mnist import input_data\n",
    "import numpy as np\n",
    "from random import randint\n",
    "from utility_functions import fetch_node"
   ]
  },
  {
   "cell_type": "markdown",
   "metadata": {},
   "source": [
    "# Import all the data!\n",
    "\n",
    "Now, we import the MNIST data:"
   ]
  },
  {
   "cell_type": "code",
   "execution_count": 2,
   "metadata": {
    "collapsed": false
   },
   "outputs": [
    {
     "name": "stdout",
     "output_type": "stream",
     "text": [
      "Extracting MNIST_data/train-images-idx3-ubyte.gz\n",
      "Extracting MNIST_data/train-labels-idx1-ubyte.gz\n",
      "Extracting MNIST_data/t10k-images-idx3-ubyte.gz\n",
      "Extracting MNIST_data/t10k-labels-idx1-ubyte.gz\n"
     ]
    },
    {
     "data": {
      "text/plain": [
       "Datasets(train=<tensorflow.contrib.learn.python.learn.datasets.mnist.DataSet object at 0x11895f150>, validation=<tensorflow.contrib.learn.python.learn.datasets.mnist.DataSet object at 0x11895f1d0>, test=<tensorflow.contrib.learn.python.learn.datasets.mnist.DataSet object at 0x11895f210>)"
      ]
     },
     "execution_count": 2,
     "metadata": {},
     "output_type": "execute_result"
    }
   ],
   "source": [
    "# Import MNIST data\n",
    "batch_size = 256\n",
    "\n",
    "# mnist variable is an instance of the DataSet class.\n",
    "mnist = input_data.read_data_sets(\"MNIST_data/\")\n",
    "mnist"
   ]
  },
  {
   "cell_type": "markdown",
   "metadata": {},
   "source": [
    "## Check the data\n",
    "To access training images, use ```mnist.train.images```, and same for labels"
   ]
  },
  {
   "cell_type": "code",
   "execution_count": 3,
   "metadata": {
    "collapsed": false
   },
   "outputs": [
    {
     "name": "stdout",
     "output_type": "stream",
     "text": [
      "Number of training images with shape [784]: 55000\n",
      "Number of training labels: 55000\n",
      "\n",
      "Number of test images with shape [784]: 10000\n",
      "Number of test labels: 10000\n",
      "\n",
      "Number of validation images with shape [784]: 5000\n",
      "Number of validation labels: 5000\n"
     ]
    }
   ],
   "source": [
    "print 'Number of training images with shape %s: %s' % \\\n",
    "    (list(np.shape(mnist.train.images)[1:]),np.shape(mnist.train.images)[0])\n",
    "print 'Number of training labels: %s' % \\\n",
    "    (np.shape(mnist.train.labels)[0])\n",
    "print\n",
    "print 'Number of test images with shape %s: %s' % \\\n",
    "    (list(np.shape(mnist.test.images)[1:]),np.shape(mnist.test.images)[0])\n",
    "print 'Number of test labels: %s' % \\\n",
    "    (np.shape(mnist.test.labels)[0])\n",
    "print\n",
    "print 'Number of validation images with shape %s: %s' % \\\n",
    "    (list(np.shape(mnist.validation.images)[1:]),np.shape(mnist.validation.images)[0])\n",
    "print 'Number of validation labels: %s' % \\\n",
    "    (np.shape(mnist.validation.labels)[0])"
   ]
  },
  {
   "cell_type": "markdown",
   "metadata": {},
   "source": [
    "## Print out 3 random examples"
   ]
  },
  {
   "cell_type": "code",
   "execution_count": 4,
   "metadata": {
    "collapsed": false
   },
   "outputs": [
    {
     "data": {
      "image/png": "[encoded data removed]",
      "text/plain": [
       "<matplotlib.figure.Figure at 0x11897be90>"
      ]
     },
     "metadata": {},
     "output_type": "display_data"
    },
    {
     "name": "stdout",
     "output_type": "stream",
     "text": [
      "^ 5\n"
     ]
    },
    {
     "data": {
      "image/png": "[encoded data removed]",
      "text/plain": [
       "<matplotlib.figure.Figure at 0x10e325690>"
      ]
     },
     "metadata": {},
     "output_type": "display_data"
    },
    {
     "name": "stdout",
     "output_type": "stream",
     "text": [
      "^ 3\n"
     ]
    },
    {
     "data": {
      "image/png": "[encoded data removed]",
      "text/plain": [
       "<matplotlib.figure.Figure at 0x118c56f10>"
      ]
     },
     "metadata": {},
     "output_type": "display_data"
    },
    {
     "name": "stdout",
     "output_type": "stream",
     "text": [
      "^ 8\n"
     ]
    }
   ],
   "source": [
    "import numpy as NP\n",
    "import matplotlib.pyplot as P\n",
    "import matplotlib.ticker as MT\n",
    "import matplotlib.cm as CM\n",
    "\n",
    "def imagesc(W, pixwidth=1, ax=None, grayscale=True):\n",
    "    \"\"\"\n",
    "    Do intensity plot, similar to MATLAB imagesc()\n",
    "    W = intensity matrix to visualize\n",
    "    pixwidth = size of each W element\n",
    "    ax = matplotlib Axes to draw on \n",
    "    grayscale = use grayscale color map\n",
    "    Rely on caller to .show()\n",
    "    \"\"\"\n",
    "    # N = rows, M = column\n",
    "    (N, M) = W.shape \n",
    "    # Need to create a new Axes?\n",
    "    if(ax == None):\n",
    "        ax = matplotlib.pyplot.figure().gca()\n",
    "    # extents = Left Right Bottom Top\n",
    "    exts = (0, pixwidth * M, 0, pixwidth * N)\n",
    "    if(grayscale):\n",
    "        ax.imshow(W,\n",
    "                  interpolation='nearest',\n",
    "                  cmap=matplotlib.cm.gray,\n",
    "                  extent=exts)\n",
    "    else:\n",
    "        ax.imshow(W,\n",
    "                  interpolation='nearest',\n",
    "                  extent=exts)\n",
    "        \n",
    "    matplotlib.pyplot.show()\n",
    "#     return ax\n",
    "\n",
    "\n",
    "for _ in range(3):\n",
    "    a=randint(1,1000)\n",
    "    imagesc(np.reshape(mnist.train.images[a,:],(28,28))),\n",
    "    print '^', mnist.train.labels[a]"
   ]
  },
  {
   "cell_type": "markdown",
   "metadata": {},
   "source": [
    "# Model Initialization\n",
    "## Simple model\n",
    "\n",
    "Let's initialize the models, starting with the basic FC model:"
   ]
  },
  {
   "cell_type": "code",
   "execution_count": 5,
   "metadata": {
    "collapsed": false
   },
   "outputs": [],
   "source": [
    "sess = tf.Session()"
   ]
  },
  {
   "cell_type": "code",
   "execution_count": 6,
   "metadata": {
    "collapsed": false
   },
   "outputs": [
    {
     "name": "stdout",
     "output_type": "stream",
     "text": [
      "[256, 784]\n"
     ]
    }
   ],
   "source": [
    "simple_fc_output, etc = mnist_benchmark( tf.constant(mnist.train.images[0:256]) )\n",
    "fc1, fc2 = etc['weights']"
   ]
  },
  {
   "cell_type": "code",
   "execution_count": 7,
   "metadata": {
    "collapsed": false
   },
   "outputs": [
    {
     "data": {
      "image/png": "[encoded data removed]",
      "text/plain": [
       "<matplotlib.figure.Figure at 0x11895f850>"
      ]
     },
     "metadata": {},
     "output_type": "display_data"
    },
    {
     "name": "stdout",
     "output_type": "stream",
     "text": [
      "Image 0 FC1 weights ^\n"
     ]
    },
    {
     "data": {
      "image/png": "[encoded data removed]",
      "text/plain": [
       "<matplotlib.figure.Figure at 0x11bdd0c90>"
      ]
     },
     "metadata": {},
     "output_type": "display_data"
    },
    {
     "name": "stdout",
     "output_type": "stream",
     "text": [
      "Image 0 FC2 weights ^\n"
     ]
    },
    {
     "data": {
      "image/png": "[encoded data removed]",
      "text/plain": [
       "<matplotlib.figure.Figure at 0x11be2b3d0>"
      ]
     },
     "metadata": {},
     "output_type": "display_data"
    },
    {
     "name": "stdout",
     "output_type": "stream",
     "text": [
      "Image 0 output ^\n"
     ]
    }
   ],
   "source": [
    "# Initialize all the variables\n",
    "sess.run(tf.global_variables_initializer())\n",
    "\n",
    "with tf.variable_scope('simple'):\n",
    "    result, fc1r, fc2r = sess.run([simple_fc_output, fc1, fc2])\n",
    "    \n",
    "imagesc(np.reshape(fc1r[0,:],(64,32)))\n",
    "print 'Image 0 FC1 weights ^'\n",
    "imagesc(np.transpose(fc2r[0:1,:]))\n",
    "print 'Image 0 FC2 weights ^'\n",
    "imagesc(np.transpose(result[0:1]))\n",
    "print 'Image 0 output ^'"
   ]
  },
  {
   "cell_type": "markdown",
   "metadata": {},
   "source": [
    "## Unicycle model\n",
    "\n"
   ]
  },
  {
   "cell_type": "code",
   "execution_count": 8,
   "metadata": {
    "collapsed": false
   },
   "outputs": [
    {
     "name": "stdout",
     "output_type": "stream",
     "text": [
      "Unicycle Initialized\n",
      "\n",
      "        Welcome to\n",
      "\n",
      "$$\\   $$\\ $$\\   $$\\ $$$$$$\\  $$$$$$\\ $$\\     $$\\  $$$$$$\\  $$\\       $$$$$$$$\\\n",
      "$$ |  $$ |$$$\\  $$ |\\_$$  _|$$  __$$\\\\$$\\   $$  |$$  __$$\\ $$ |      $$  _____|\n",
      "$$ |  $$ |$$$$\\ $$ |  $$ |  $$ /  \\__|\\$$\\ $$  / $$ /  \\__|$$ |      $$ |\n",
      "$$ |  $$ |$$ $$\\$$ |  $$ |  $$ |       \\$$$$  /  $$ |      $$ |      $$$$$\\\n",
      "$$ |  $$ |$$ \\$$$$ |  $$ |  $$ |        \\$$  /   $$ |      $$ |      $$  __|\n",
      "$$ |  $$ |$$ |\\$$$ |  $$ |  $$ |  $$\\    $$ |    $$ |  $$\\ $$ |      $$ |\n",
      "\\$$$$$$  |$$ | \\$$ |$$$$$$\\ \\$$$$$$  |   $$ |    \\$$$$$$  |$$$$$$$$\\ $$$$$$$$\\\n",
      " \\______/ \\__|  \\__|\\______| \\______/    \\__|     \\______/ \\________|\\________|\n",
      "\n",
      "        *The Universal Neural Interpretation and Cyclicity Engine\n",
      "\n",
      "\n",
      "======\n",
      "STEP 1\n",
      " JSON Import and Parse\n",
      "====================== \n",
      "\n",
      "Using JSON file SAMPLE_MNIST.JSON for import... done! \n",
      "\n",
      "Checking the integrity of the JSON file... done! \n",
      "\n",
      "======\n",
      "STEP 2\n",
      " Network-X Raw Build\n",
      "====== \n",
      "\n",
      "Building Network-X Raw DiGraph... \n",
      "\n",
      "Network-X Raw Graph created! Nodes: \n",
      "    fc_1\n",
      "    fc_2\n",
      "    image_input_1 \n",
      "\n",
      "Root nodes: \n",
      "    image_input_1 \n",
      "\n",
      "Finding all non-ancestral dependeny links in the Graph... done! \n",
      "\n",
      "======\n",
      "STEP 3\n",
      " Input Size Calculation\n",
      "====== \n",
      "\n",
      "Starting the node traversal for size calculation. \n",
      "\n",
      "Counting up the sizes for node fc_1 \n",
      "\n",
      "Incoming sizes of fc_1: {'image_input_1': ([256, 784], [])} \n",
      "\n",
      " ... done!\n",
      "Counting up the sizes for node fc_2 \n",
      "\n",
      "Incoming sizes of fc_2: {'fc_1': ([256, 2048], [['image_input_1', 'fc_1']])} \n",
      "\n",
      " ... done!\n",
      " \n",
      "\n",
      "Final Node Output Sizes:\n",
      "   fc_1         :[256, 2048]\n",
      "   fc_2         :[256, 10]\n",
      "   image_input_1:[256, 784]\n",
      "\n",
      "\n",
      "All sizes calculated! \n",
      "\n",
      "======\n",
      "STEP 4\n",
      " TF Node Creation\n",
      "======================== \n",
      "\n",
      "\n",
      "                         =*===\n",
      "    It's all           $$- - $$$\n",
      "    running well,      $ <    D$$\n",
      "    my master          $ -   $$$\n",
      "                 ,     $$$$  |\n",
      "                ///; ,---' _ |----.\n",
      "    Let us       \\ )(           /  )\n",
      "    begin our    | \\/ \\.   '  _.|  \\              $\n",
      "    training!    |  \\ /(   /    /\\_ \\          $$$$$\n",
      "                  \\ /  (       / /  )         $$$ $$$\n",
      "                       (  ,   /_/ ,`_,-----.,$$  $$$\n",
      "                       |   <----|  \\---##     \\   $$\n",
      "                       /         ***           |    $\n",
      "                      '   '                    |\n",
      "                      |                 \\      /\n",
      "                      /  \\_|    /______,/     /\n",
      "                     /   / |   /    |   |    /\n",
      "                    (   /--|  /.     \\  (\\  (_\n",
      "                     `----,( ( _\\     \\ / / ,/\n",
      "                           | /        /,_/,/\n",
      "                          _|/        / / (\n",
      "                         / (        ^-/, |\n",
      "                        /, |          ^-\n",
      "                        ^-\n",
      "     \n",
      "\n",
      "======\n",
      "TF Unroller\n",
      "======================== \n",
      "\n",
      "GenFuncCell call of node fc_1\n",
      " Harbor call of cell fc_1:\n",
      " Inputs: {'image_input_1': <tf.Tensor 'zeros_6:0' shape=(256, 784) dtype=float32>}\n",
      " Resizing output of node image_input_1\n",
      " TF Size: [256, 784]\n",
      " Harbor post-policy inputs:\n",
      " +-  Tensor(\"zeros_6:0\", shape=(256, 784), dtype=float32)\n",
      " Harbor of fc_1 >>  out size [256, 784]\n",
      "  Using Harbor output: Tensor(\"fc_1_harbor_concat:0\", shape=(256, 784), dtype=float32)\n",
      "  GenFuncCell of node fc_1 >>  post-Harbor size [256, 784]\n",
      "  GenFuncCell of node fc_1 >>  post-state size [256, 2048]\n",
      "  GenFuncCell of node fc_1 >>  pre-memory state size [256, 2048]\n",
      "    fc_1 MEMORY CALLED! Decay param name: decay_param_fc_1:0\n",
      "  GenFuncCell of node fc_1 >>  post-memory state size [256, 2048]\n",
      "  GenFuncCell of node fc_1 >>  post-out-func size [256, 2048]\n",
      "\n",
      "GenFuncCell call of node fc_2\n",
      " Harbor call of cell fc_2:\n",
      " Inputs: {'fc_1': <tf.Tensor 'zeros_2:0' shape=(256, 2048) dtype=float32>}\n",
      " Resizing output of node fc_1\n",
      " TF Size: [256, 2048]\n",
      " Harbor post-policy inputs:\n",
      " +-  Tensor(\"zeros_2:0\", shape=(256, 2048), dtype=float32)\n",
      " Harbor of fc_2 >>  out size [256, 2048]\n",
      "  Using Harbor output: Tensor(\"fc_2_harbor_concat:0\", shape=(256, 2048), dtype=float32)\n",
      "  GenFuncCell of node fc_2 >>  post-Harbor size [256, 2048]\n",
      "  GenFuncCell of node fc_2 >>  post-state size [256, 10]\n",
      "  GenFuncCell of node fc_2 >>  pre-memory state size [256, 10]\n",
      "    fc_2 MEMORY CALLED! Decay param name: decay_param_fc_2:0\n",
      "  GenFuncCell of node fc_2 >>  post-memory state size [256, 10]\n",
      "  GenFuncCell of node fc_2 >>  post-out-func size [256, 10]\n",
      "\n",
      "GenFuncCell call of node fc_1\n",
      " Harbor call of cell fc_1:\n",
      " Inputs: {'image_input_1': <tf.Tensor 'Const_3:0' shape=(256, 784) dtype=float32>}\n",
      " Resizing output of node image_input_1\n",
      " TF Size: [256, 784]\n",
      " Harbor post-policy inputs:\n",
      " +-  Tensor(\"Const_3:0\", shape=(256, 784), dtype=float32)\n",
      " Harbor of fc_1 >>  out size [256, 784]\n",
      "  Using Harbor output: Tensor(\"fc_1_harbor_concat_1:0\", shape=(256, 784), dtype=float32)\n",
      "  GenFuncCell of node fc_1 >>  post-Harbor size [256, 784]\n",
      "  GenFuncCell of node fc_1 >>  post-state size [256, 2048]\n",
      "  GenFuncCell of node fc_1 >>  pre-memory state size [256, 2048]\n",
      "    fc_1 MEMORY CALLED! Decay param name: decay_param_fc_1:0\n",
      "  GenFuncCell of node fc_1 >>  post-memory state size [256, 2048]\n",
      "  GenFuncCell of node fc_1 >>  post-out-func size [256, 2048]\n",
      "\n",
      "GenFuncCell call of node fc_2\n",
      " Harbor call of cell fc_2:\n",
      " Inputs: {'fc_1': <tf.Tensor 'add_2:0' shape=(256, 2048) dtype=float32>}\n",
      " Resizing output of node fc_1\n",
      " TF Size: [256, 2048]\n",
      " Harbor post-policy inputs:\n",
      " +-  Tensor(\"add_2:0\", shape=(256, 2048), dtype=float32)\n",
      " Harbor of fc_2 >>  out size [256, 2048]\n",
      "  Using Harbor output: Tensor(\"fc_2_harbor_concat_1:0\", shape=(256, 2048), dtype=float32)\n",
      "  GenFuncCell of node fc_2 >>  post-Harbor size [256, 2048]\n",
      "  GenFuncCell of node fc_2 >>  post-state size [256, 10]\n",
      "  GenFuncCell of node fc_2 >>  pre-memory state size [256, 10]\n",
      "    fc_2 MEMORY CALLED! Decay param name: decay_param_fc_2:0\n",
      "  GenFuncCell of node fc_2 >>  post-memory state size [256, 10]\n",
      "  GenFuncCell of node fc_2 >>  post-out-func size [256, 10]\n",
      "\n",
      "GenFuncCell call of node fc_1\n",
      " Harbor call of cell fc_1:\n",
      " Inputs: {'image_input_1': <tf.Tensor 'Const_3:0' shape=(256, 784) dtype=float32>}\n",
      " Resizing output of node image_input_1\n",
      " TF Size: [256, 784]\n",
      " Harbor post-policy inputs:\n",
      " +-  Tensor(\"Const_3:0\", shape=(256, 784), dtype=float32)\n",
      " Harbor of fc_1 >>  out size [256, 784]\n",
      "  Using Harbor output: Tensor(\"fc_1_harbor_concat_2:0\", shape=(256, 784), dtype=float32)\n",
      "  GenFuncCell of node fc_1 >>  post-Harbor size [256, 784]\n",
      "  GenFuncCell of node fc_1 >>  post-state size [256, 2048]\n",
      "  GenFuncCell of node fc_1 >>  pre-memory state size [256, 2048]\n",
      "    fc_1 MEMORY CALLED! Decay param name: decay_param_fc_1:0\n",
      "  GenFuncCell of node fc_1 >>  post-memory state size [256, 2048]\n",
      "  GenFuncCell of node fc_1 >>  post-out-func size [256, 2048]\n",
      "\n",
      "GenFuncCell call of node fc_2\n",
      " Harbor call of cell fc_2:\n",
      " Inputs: {'fc_1': <tf.Tensor 'add_4:0' shape=(256, 2048) dtype=float32>}\n",
      " Resizing output of node fc_1\n",
      " TF Size: [256, 2048]\n",
      " Harbor post-policy inputs:\n",
      " +-  Tensor(\"add_4:0\", shape=(256, 2048), dtype=float32)\n",
      " Harbor of fc_2 >>  out size [256, 2048]\n",
      "  Using Harbor output: Tensor(\"fc_2_harbor_concat_2:0\", shape=(256, 2048), dtype=float32)\n",
      "  GenFuncCell of node fc_2 >>  post-Harbor size [256, 2048]\n",
      "  GenFuncCell of node fc_2 >>  post-state size [256, 10]\n",
      "  GenFuncCell of node fc_2 >>  pre-memory state size [256, 10]\n",
      "    fc_2 MEMORY CALLED! Decay param name: decay_param_fc_2:0\n",
      "  GenFuncCell of node fc_2 >>  post-memory state size [256, 10]\n",
      "  GenFuncCell of node fc_2 >>  post-out-func size [256, 10]\n",
      "\n",
      "GenFuncCell call of node fc_1\n",
      " Harbor call of cell fc_1:\n",
      " Inputs: {'image_input_1': <tf.Tensor 'Const_3:0' shape=(256, 784) dtype=float32>}\n",
      " Resizing output of node image_input_1\n",
      " TF Size: [256, 784]\n",
      " Harbor post-policy inputs:\n",
      " +-  Tensor(\"Const_3:0\", shape=(256, 784), dtype=float32)\n",
      " Harbor of fc_1 >>  out size [256, 784]\n",
      "  Using Harbor output: Tensor(\"fc_1_harbor_concat_3:0\", shape=(256, 784), dtype=float32)\n",
      "  GenFuncCell of node fc_1 >>  post-Harbor size [256, 784]\n",
      "  GenFuncCell of node fc_1 >>  post-state size [256, 2048]\n",
      "  GenFuncCell of node fc_1 >>  pre-memory state size [256, 2048]\n",
      "    fc_1 MEMORY CALLED! Decay param name: decay_param_fc_1:0\n",
      "  GenFuncCell of node fc_1 >>  post-memory state size [256, 2048]\n",
      "  GenFuncCell of node fc_1 >>  post-out-func size [256, 2048]\n",
      "\n",
      "GenFuncCell call of node fc_2\n",
      " Harbor call of cell fc_2:\n",
      " Inputs: {'fc_1': <tf.Tensor 'add_6:0' shape=(256, 2048) dtype=float32>}\n",
      " Resizing output of node fc_1\n",
      " TF Size: [256, 2048]\n",
      " Harbor post-policy inputs:\n",
      " +-  Tensor(\"add_6:0\", shape=(256, 2048), dtype=float32)\n",
      " Harbor of fc_2 >>  out size [256, 2048]\n",
      "  Using Harbor output: Tensor(\"fc_2_harbor_concat_3:0\", shape=(256, 2048), dtype=float32)\n",
      "  GenFuncCell of node fc_2 >>  post-Harbor size [256, 2048]\n",
      "  GenFuncCell of node fc_2 >>  post-state size [256, 10]\n",
      "  GenFuncCell of node fc_2 >>  pre-memory state size [256, 10]\n",
      "    fc_2 MEMORY CALLED! Decay param name: decay_param_fc_2:0\n",
      "  GenFuncCell of node fc_2 >>  post-memory state size [256, 10]\n",
      "  GenFuncCell of node fc_2 >>  post-out-func size [256, 10]\n",
      "\n",
      "GenFuncCell call of node fc_1\n",
      " Harbor call of cell fc_1:\n",
      " Inputs: {'image_input_1': <tf.Tensor 'Const_3:0' shape=(256, 784) dtype=float32>}\n",
      " Resizing output of node image_input_1\n",
      " TF Size: [256, 784]\n",
      " Harbor post-policy inputs:\n",
      " +-  Tensor(\"Const_3:0\", shape=(256, 784), dtype=float32)\n",
      " Harbor of fc_1 >>  out size [256, 784]\n",
      "  Using Harbor output: Tensor(\"fc_1_harbor_concat_4:0\", shape=(256, 784), dtype=float32)\n",
      "  GenFuncCell of node fc_1 >>  post-Harbor size [256, 784]\n",
      "  GenFuncCell of node fc_1 >>  post-state size [256, 2048]\n",
      "  GenFuncCell of node fc_1 >>  pre-memory state size [256, 2048]\n",
      "    fc_1 MEMORY CALLED! Decay param name: decay_param_fc_1:0\n",
      "  GenFuncCell of node fc_1 >>  post-memory state size [256, 2048]\n",
      "  GenFuncCell of node fc_1 >>  post-out-func size [256, 2048]\n",
      "\n",
      "GenFuncCell call of node fc_2\n",
      " Harbor call of cell fc_2:\n",
      " Inputs: {'fc_1': <tf.Tensor 'add_8:0' shape=(256, 2048) dtype=float32>}\n",
      " Resizing output of node fc_1\n",
      " TF Size: [256, 2048]\n",
      " Harbor post-policy inputs:\n",
      " +-  Tensor(\"add_8:0\", shape=(256, 2048), dtype=float32)\n",
      " Harbor of fc_2 >>  out size [256, 2048]\n",
      "  Using Harbor output: Tensor(\"fc_2_harbor_concat_4:0\", shape=(256, 2048), dtype=float32)\n",
      "  GenFuncCell of node fc_2 >>  post-Harbor size [256, 2048]\n",
      "  GenFuncCell of node fc_2 >>  post-state size [256, 10]\n",
      "  GenFuncCell of node fc_2 >>  pre-memory state size [256, 10]\n",
      "    fc_2 MEMORY CALLED! Decay param name: decay_param_fc_2:0\n",
      "  GenFuncCell of node fc_2 >>  post-memory state size [256, 10]\n",
      "  GenFuncCell of node fc_2 >>  post-out-func size [256, 10]\n",
      "\n",
      "GenFuncCell call of node fc_1\n",
      " Harbor call of cell fc_1:\n",
      " Inputs: {'image_input_1': <tf.Tensor 'Const_3:0' shape=(256, 784) dtype=float32>}\n",
      " Resizing output of node image_input_1\n",
      " TF Size: [256, 784]\n",
      " Harbor post-policy inputs:\n",
      " +-  Tensor(\"Const_3:0\", shape=(256, 784), dtype=float32)\n",
      " Harbor of fc_1 >>  out size [256, 784]\n",
      "  Using Harbor output: Tensor(\"fc_1_harbor_concat_5:0\", shape=(256, 784), dtype=float32)\n",
      "  GenFuncCell of node fc_1 >>  post-Harbor size [256, 784]\n",
      "  GenFuncCell of node fc_1 >>  post-state size [256, 2048]\n",
      "  GenFuncCell of node fc_1 >>  pre-memory state size [256, 2048]\n",
      "    fc_1 MEMORY CALLED! Decay param name: decay_param_fc_1:0\n",
      "  GenFuncCell of node fc_1 >>  post-memory state size [256, 2048]\n",
      "  GenFuncCell of node fc_1 >>  post-out-func size [256, 2048]\n",
      "\n",
      "GenFuncCell call of node fc_2\n",
      " Harbor call of cell fc_2:\n",
      " Inputs: {'fc_1': <tf.Tensor 'add_10:0' shape=(256, 2048) dtype=float32>}\n",
      " Resizing output of node fc_1\n",
      " TF Size: [256, 2048]\n",
      " Harbor post-policy inputs:\n",
      " +-  Tensor(\"add_10:0\", shape=(256, 2048), dtype=float32)\n",
      " Harbor of fc_2 >>  out size [256, 2048]\n",
      "  Using Harbor output: Tensor(\"fc_2_harbor_concat_5:0\", shape=(256, 2048), dtype=float32)\n",
      "  GenFuncCell of node fc_2 >>  post-Harbor size [256, 2048]\n",
      "  GenFuncCell of node fc_2 >>  post-state size [256, 10]\n",
      "  GenFuncCell of node fc_2 >>  pre-memory state size [256, 10]\n",
      "    fc_2 MEMORY CALLED! Decay param name: decay_param_fc_2:0\n",
      "  GenFuncCell of node fc_2 >>  post-memory state size [256, 10]\n",
      "  GenFuncCell of node fc_2 >>  post-out-func size [256, 10]\n",
      "\n",
      "GenFuncCell call of node fc_1\n",
      " Harbor call of cell fc_1:\n",
      " Inputs: {'image_input_1': <tf.Tensor 'Const_3:0' shape=(256, 784) dtype=float32>}\n",
      " Resizing output of node image_input_1\n",
      " TF Size: [256, 784]\n",
      " Harbor post-policy inputs:\n",
      " +-  Tensor(\"Const_3:0\", shape=(256, 784), dtype=float32)\n",
      " Harbor of fc_1 >>  out size [256, 784]\n",
      "  Using Harbor output: Tensor(\"fc_1_harbor_concat_6:0\", shape=(256, 784), dtype=float32)\n",
      "  GenFuncCell of node fc_1 >>  post-Harbor size [256, 784]\n",
      "  GenFuncCell of node fc_1 >>  post-state size [256, 2048]\n",
      "  GenFuncCell of node fc_1 >>  pre-memory state size [256, 2048]\n",
      "    fc_1 MEMORY CALLED! Decay param name: decay_param_fc_1:0\n",
      "  GenFuncCell of node fc_1 >>  post-memory state size [256, 2048]\n",
      "  GenFuncCell of node fc_1 >>  post-out-func size [256, 2048]\n",
      "\n",
      "GenFuncCell call of node fc_2\n",
      " Harbor call of cell fc_2:\n",
      " Inputs: {'fc_1': <tf.Tensor 'add_12:0' shape=(256, 2048) dtype=float32>}\n",
      " Resizing output of node fc_1\n",
      " TF Size: [256, 2048]\n",
      " Harbor post-policy inputs:\n",
      " +-  Tensor(\"add_12:0\", shape=(256, 2048), dtype=float32)\n",
      " Harbor of fc_2 >>  out size [256, 2048]\n",
      "  Using Harbor output: Tensor(\"fc_2_harbor_concat_6:0\", shape=(256, 2048), dtype=float32)\n",
      "  GenFuncCell of node fc_2 >>  post-Harbor size [256, 2048]\n",
      "  GenFuncCell of node fc_2 >>  post-state size [256, 10]\n",
      "  GenFuncCell of node fc_2 >>  pre-memory state size [256, 10]\n",
      "    fc_2 MEMORY CALLED! Decay param name: decay_param_fc_2:0\n",
      "  GenFuncCell of node fc_2 >>  post-memory state size [256, 10]\n",
      "  GenFuncCell of node fc_2 >>  post-out-func size [256, 10]\n",
      "\n",
      "GenFuncCell call of node fc_1\n",
      " Harbor call of cell fc_1:\n",
      " Inputs: {'image_input_1': <tf.Tensor 'Const_3:0' shape=(256, 784) dtype=float32>}\n",
      " Resizing output of node image_input_1\n",
      " TF Size: [256, 784]\n",
      " Harbor post-policy inputs:\n",
      " +-  Tensor(\"Const_3:0\", shape=(256, 784), dtype=float32)\n",
      " Harbor of fc_1 >>  out size [256, 784]\n",
      "  Using Harbor output: Tensor(\"fc_1_harbor_concat_7:0\", shape=(256, 784), dtype=float32)\n",
      "  GenFuncCell of node fc_1 >>  post-Harbor size [256, 784]\n",
      "  GenFuncCell of node fc_1 >>  post-state size [256, 2048]\n",
      "  GenFuncCell of node fc_1 >>  pre-memory state size [256, 2048]\n",
      "    fc_1 MEMORY CALLED! Decay param name: decay_param_fc_1:0\n",
      "  GenFuncCell of node fc_1 >>  post-memory state size [256, 2048]\n",
      "  GenFuncCell of node fc_1 >>  post-out-func size [256, 2048]\n",
      "\n",
      "GenFuncCell call of node fc_2\n",
      " Harbor call of cell fc_2:\n",
      " Inputs: {'fc_1': <tf.Tensor 'add_14:0' shape=(256, 2048) dtype=float32>}\n",
      " Resizing output of node fc_1\n",
      " TF Size: [256, 2048]\n",
      " Harbor post-policy inputs:\n",
      " +-  Tensor(\"add_14:0\", shape=(256, 2048), dtype=float32)\n",
      " Harbor of fc_2 >>  out size [256, 2048]\n",
      "  Using Harbor output: Tensor(\"fc_2_harbor_concat_7:0\", shape=(256, 2048), dtype=float32)\n",
      "  GenFuncCell of node fc_2 >>  post-Harbor size [256, 2048]\n",
      "  GenFuncCell of node fc_2 >>  post-state size [256, 10]\n",
      "  GenFuncCell of node fc_2 >>  pre-memory state size [256, 10]\n",
      "    fc_2 MEMORY CALLED! Decay param name: decay_param_fc_2:0\n",
      "  GenFuncCell of node fc_2 >>  post-memory state size [256, 10]\n",
      "  GenFuncCell of node fc_2 >>  post-out-func size [256, 10]\n",
      "\n",
      "GenFuncCell call of node fc_1\n",
      " Harbor call of cell fc_1:\n",
      " Inputs: {'image_input_1': <tf.Tensor 'Const_3:0' shape=(256, 784) dtype=float32>}\n",
      " Resizing output of node image_input_1\n",
      " TF Size: [256, 784]\n",
      " Harbor post-policy inputs:\n",
      " +-  Tensor(\"Const_3:0\", shape=(256, 784), dtype=float32)\n",
      " Harbor of fc_1 >>  out size [256, 784]\n",
      "  Using Harbor output: Tensor(\"fc_1_harbor_concat_8:0\", shape=(256, 784), dtype=float32)\n",
      "  GenFuncCell of node fc_1 >>  post-Harbor size [256, 784]\n",
      "  GenFuncCell of node fc_1 >>  post-state size [256, 2048]\n",
      "  GenFuncCell of node fc_1 >>  pre-memory state size [256, 2048]\n",
      "    fc_1 MEMORY CALLED! Decay param name: decay_param_fc_1:0\n",
      "  GenFuncCell of node fc_1 >>  post-memory state size [256, 2048]\n",
      "  GenFuncCell of node fc_1 >>  post-out-func size [256, 2048]\n",
      "\n",
      "GenFuncCell call of node fc_2\n",
      " Harbor call of cell fc_2:\n",
      " Inputs: {'fc_1': <tf.Tensor 'add_16:0' shape=(256, 2048) dtype=float32>}\n",
      " Resizing output of node fc_1\n",
      " TF Size: [256, 2048]\n",
      " Harbor post-policy inputs:\n",
      " +-  Tensor(\"add_16:0\", shape=(256, 2048), dtype=float32)\n",
      " Harbor of fc_2 >>  out size [256, 2048]\n",
      "  Using Harbor output: Tensor(\"fc_2_harbor_concat_8:0\", shape=(256, 2048), dtype=float32)\n",
      "  GenFuncCell of node fc_2 >>  post-Harbor size [256, 2048]\n",
      "  GenFuncCell of node fc_2 >>  post-state size [256, 10]\n",
      "  GenFuncCell of node fc_2 >>  pre-memory state size [256, 10]\n",
      "    fc_2 MEMORY CALLED! Decay param name: decay_param_fc_2:0\n",
      "  GenFuncCell of node fc_2 >>  post-memory state size [256, 10]\n",
      "  GenFuncCell of node fc_2 >>  post-out-func size [256, 10]\n",
      "\n",
      "GenFuncCell call of node fc_1\n",
      " Harbor call of cell fc_1:\n",
      " Inputs: {'image_input_1': <tf.Tensor 'Const_3:0' shape=(256, 784) dtype=float32>}\n",
      " Resizing output of node image_input_1\n",
      " TF Size: [256, 784]\n",
      " Harbor post-policy inputs:\n",
      " +-  Tensor(\"Const_3:0\", shape=(256, 784), dtype=float32)\n",
      " Harbor of fc_1 >>  out size [256, 784]\n",
      "  Using Harbor output: Tensor(\"fc_1_harbor_concat_9:0\", shape=(256, 784), dtype=float32)\n",
      "  GenFuncCell of node fc_1 >>  post-Harbor size [256, 784]\n",
      "  GenFuncCell of node fc_1 >>  post-state size [256, 2048]\n",
      "  GenFuncCell of node fc_1 >>  pre-memory state size [256, 2048]\n",
      "    fc_1 MEMORY CALLED! Decay param name: decay_param_fc_1:0\n",
      "  GenFuncCell of node fc_1 >>  post-memory state size [256, 2048]\n",
      "  GenFuncCell of node fc_1 >>  post-out-func size [256, 2048]\n",
      "\n",
      "GenFuncCell call of node fc_2\n",
      " Harbor call of cell fc_2:\n",
      " Inputs: {'fc_1': <tf.Tensor 'add_18:0' shape=(256, 2048) dtype=float32>}\n",
      " Resizing output of node fc_1\n",
      " TF Size: [256, 2048]\n",
      " Harbor post-policy inputs:\n",
      " +-  Tensor(\"add_18:0\", shape=(256, 2048), dtype=float32)\n",
      " Harbor of fc_2 >>  out size [256, 2048]\n",
      "  Using Harbor output: Tensor(\"fc_2_harbor_concat_9:0\", shape=(256, 2048), dtype=float32)\n",
      "  GenFuncCell of node fc_2 >>  post-Harbor size [256, 2048]\n",
      "  GenFuncCell of node fc_2 >>  post-state size [256, 10]\n",
      "  GenFuncCell of node fc_2 >>  pre-memory state size [256, 10]\n",
      "    fc_2 MEMORY CALLED! Decay param name: decay_param_fc_2:0\n",
      "  GenFuncCell of node fc_2 >>  post-memory state size [256, 10]\n",
      "  GenFuncCell of node fc_2 >>  post-out-func size [256, 10]\n",
      "\n",
      "Unroller successfully unrolled Graph! 30 nodes unrolled\n"
     ]
    }
   ],
   "source": [
    "unicycle_model = Unicycle()\n",
    "G = unicycle_model.build(json_file_name='sample_mnist.json')\n",
    "last_ = unicycle_model({'images': tf.constant(mnist.train.images[0:256])}, G)"
   ]
  },
  {
   "cell_type": "markdown",
   "metadata": {},
   "source": [
    "## Print out all the Variables for visual reference purposes"
   ]
  },
  {
   "cell_type": "code",
   "execution_count": 9,
   "metadata": {
    "collapsed": false
   },
   "outputs": [
    {
     "name": "stdout",
     "output_type": "stream",
     "text": [
      "[u'fcw1:0', u'fcb1:0', u'fcw2:0', u'fcb2:0', u'weights_fc_1:0', u'biases_fc_1:0', u'decay_param_fc_1:0', u'weights_fc_2:0', u'biases_fc_2:0', u'decay_param_fc_2:0']\n"
     ]
    }
   ],
   "source": [
    "print [i.name for i in tf.global_variables()]"
   ]
  },
  {
   "cell_type": "code",
   "execution_count": 10,
   "metadata": {
    "collapsed": false
   },
   "outputs": [
    {
     "data": {
      "text/plain": [
       "{u'functions': [{u'bias': 0.1,\n",
       "   u'init': u'trunc_norm',\n",
       "   u'output_size': 2048,\n",
       "   u'seed': 12345,\n",
       "   u'type': u'fc'}],\n",
       " 'harbor': <harbor.Harbor at 0x11895fe50>,\n",
       " u'nickname': u'fc_1',\n",
       " 'output_size': [256, 2048],\n",
       " 'state_size': [256, 2048],\n",
       " 'tf_cell': <GenFuncCell.GenFuncCell at 0x11bec4290>,\n",
       " u'type': u'cell'}"
      ]
     },
     "execution_count": 10,
     "metadata": {},
     "output_type": "execute_result"
    }
   ],
   "source": [
    "fc1wu = fetch_node(nickname='fc_1',graph=G)[0]\n",
    "fc1wu"
   ]
  },
  {
   "cell_type": "code",
   "execution_count": 11,
   "metadata": {
    "collapsed": false
   },
   "outputs": [
    {
     "name": "stdout",
     "output_type": "stream",
     "text": [
      "Decay parameter for FC1: 0.0\n",
      "Decay parameter for FC2: 0.0\n"
     ]
    }
   ],
   "source": [
    "# Initialize all the variables\n",
    "sess.run(tf.global_variables_initializer())\n",
    "\n",
    "outu, fc1ur, fc2ur = sess.run([G.node['fc_2']['tf_cell'].get_state(),tf.get_variable('weights_fc_1'),tf.get_variable('weights_fc_2')])\n",
    "mem1, mem2 = sess.run([tf.get_variable('decay_param_fc_1'),tf.get_variable('decay_param_fc_1')])\n",
    "\n",
    "print 'Decay parameter for FC1:', mem1[0]\n",
    "print 'Decay parameter for FC2:', mem2[0]"
   ]
  },
  {
   "cell_type": "code",
   "execution_count": 24,
   "metadata": {
    "collapsed": false
   },
   "outputs": [
    {
     "data": {
      "image/png": "[encoded data removed]",
      "text/plain": [
       "<matplotlib.figure.Figure at 0x1247de210>"
      ]
     },
     "metadata": {},
     "output_type": "display_data"
    },
    {
     "name": "stdout",
     "output_type": "stream",
     "text": [
      "Image 0 FC1 weights ^\n"
     ]
    },
    {
     "data": {
      "image/png": "[encoded data removed]",
      "text/plain": [
       "<matplotlib.figure.Figure at 0x1189e0f90>"
      ]
     },
     "metadata": {},
     "output_type": "display_data"
    },
    {
     "name": "stdout",
     "output_type": "stream",
     "text": [
      "Image 0 FC2 weights ^\n"
     ]
    },
    {
     "data": {
      "image/png": "[encoded data removed]",
      "text/plain": [
       "<matplotlib.figure.Figure at 0x118a53050>"
      ]
     },
     "metadata": {},
     "output_type": "display_data"
    },
    {
     "name": "stdout",
     "output_type": "stream",
     "text": [
      "Image 0 outputs ^\n"
     ]
    }
   ],
   "source": [
    "imagesc(np.reshape(fc1ur[0,:],(64,32)))\n",
    "print 'Image 0 FC1 weights ^'\n",
    "imagesc(np.transpose(fc2ur[0:1]))\n",
    "print 'Image 0 FC2 weights ^'\n",
    "imagesc(np.transpose(outu[0:1]))\n",
    "print 'Image 0 outputs ^'"
   ]
  },
  {
   "cell_type": "code",
   "execution_count": 13,
   "metadata": {
    "collapsed": false
   },
   "outputs": [
    {
     "data": {
      "text/plain": [
       "[<tf.Tensor 'zeros_5:0' shape=(256, 10) dtype=float32>,\n",
       " <tf.Tensor 'add_3:0' shape=(256, 10) dtype=float32>,\n",
       " <tf.Tensor 'add_5:0' shape=(256, 10) dtype=float32>,\n",
       " <tf.Tensor 'add_7:0' shape=(256, 10) dtype=float32>,\n",
       " <tf.Tensor 'add_9:0' shape=(256, 10) dtype=float32>,\n",
       " <tf.Tensor 'add_11:0' shape=(256, 10) dtype=float32>,\n",
       " <tf.Tensor 'add_13:0' shape=(256, 10) dtype=float32>,\n",
       " <tf.Tensor 'add_15:0' shape=(256, 10) dtype=float32>,\n",
       " <tf.Tensor 'add_17:0' shape=(256, 10) dtype=float32>,\n",
       " <tf.Tensor 'add_19:0' shape=(256, 10) dtype=float32>,\n",
       " <tf.Tensor 'add_21:0' shape=(256, 10) dtype=float32>]"
      ]
     },
     "execution_count": 13,
     "metadata": {},
     "output_type": "execute_result"
    }
   ],
   "source": [
    "G.node['fc_2']['tf_cell'].states"
   ]
  },
  {
   "cell_type": "code",
   "execution_count": 19,
   "metadata": {
    "collapsed": false
   },
   "outputs": [],
   "source": [
    "loss_uni = tf.nn.sparse_softmax_cross_entropy_with_logits(outu, np.int_(mnist.train.labels[0:256]))\n",
    "loss_fc = tf.nn.sparse_softmax_cross_entropy_with_logits(result, np.int_(mnist.train.labels[0:256]))"
   ]
  },
  {
   "cell_type": "markdown",
   "metadata": {},
   "source": [
    "## TensorBoard Visualize\n",
    "Visualize the Graph using TensorBoard. To do this we add the graph definition into a Writer and then run `tensorboard --logdir=run1:<dir_to_current_folder/tensorboard> --port 6006`"
   ]
  },
  {
   "cell_type": "code",
   "execution_count": 15,
   "metadata": {
    "collapsed": false
   },
   "outputs": [
    {
     "name": "stdout",
     "output_type": "stream",
     "text": [
      "WARNING:tensorflow:From <ipython-input-15-7657e4c54e42>:1 in <module>.: __init__ (from tensorflow.python.training.summary_io) is deprecated and will be removed after 2016-11-30.\n",
      "Instructions for updating:\n",
      "Please switch to tf.summary.FileWriter. The interface and behavior is the same; this is just a rename.\n"
     ]
    }
   ],
   "source": [
    "writer = tf.train.SummaryWriter('tensorboard/', graph=tf.get_default_graph())\n",
    "\n",
    "writer.add_graph(tf.get_default_graph())"
   ]
  },
  {
   "cell_type": "markdown",
   "metadata": {},
   "source": [
    "## Compare states\n",
    "Subtract to check they're the same yo."
   ]
  },
  {
   "cell_type": "code",
   "execution_count": 34,
   "metadata": {
    "collapsed": true
   },
   "outputs": [],
   "source": [
    "final_error=np.sum(fc1ur-fc1r)/fc1ur.shape[0]/fc1ur.shape[1]\n",
    "final_error=np.sum(result-outu)"
   ]
  },
  {
   "cell_type": "code",
   "execution_count": 35,
   "metadata": {
    "collapsed": false
   },
   "outputs": [
    {
     "data": {
      "text/plain": [
       "-1333.0833"
      ]
     },
     "execution_count": 35,
     "metadata": {},
     "output_type": "execute_result"
    }
   ],
   "source": [
    "final_error"
   ]
  },
  {
   "cell_type": "code",
   "execution_count": null,
   "metadata": {
    "collapsed": true
   },
   "outputs": [],
   "source": []
  }
 ],
 "metadata": {
  "kernelspec": {
   "display_name": "Python 2",
   "language": "python",
   "name": "python2"
  },
  "language_info": {
   "codemirror_mode": {
    "name": "ipython",
    "version": 2
   },
   "file_extension": ".py",
   "mimetype": "text/x-python",
   "name": "python",
   "nbconvert_exporter": "python",
   "pygments_lexer": "ipython2",
   "version": "2.7.13"
  }
 },
 "nbformat": 4,
 "nbformat_minor": 2
}
