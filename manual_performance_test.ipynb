{
 "cells": [
  {
   "cell_type": "code",
   "execution_count": 1,
   "metadata": {
    "collapsed": false,
    "deletable": true,
    "editable": true
   },
   "outputs": [],
   "source": [
    "# Import the necessary modules\n",
    "import tensorflow as tf\n",
    "import sys\n",
    "sys.path.append('model')\n",
    "from unicycle import mnist_benchmark, mnist_tfutils, Unicycle\n",
    "import matplotlib\n",
    "from tensorflow.examples.tutorials.mnist import input_data\n",
    "import numpy as np\n",
    "from random import randint\n",
    "from utility_functions import fetch_node"
   ]
  },
  {
   "cell_type": "code",
   "execution_count": 2,
   "metadata": {
    "collapsed": false,
    "deletable": true,
    "editable": true
   },
   "outputs": [
    {
     "name": "stdout",
     "output_type": "stream",
     "text": [
      "Extracting MNIST_data/train-images-idx3-ubyte.gz\n",
      "Extracting MNIST_data/train-labels-idx1-ubyte.gz\n",
      "Extracting MNIST_data/t10k-images-idx3-ubyte.gz\n",
      "Extracting MNIST_data/t10k-labels-idx1-ubyte.gz\n"
     ]
    },
    {
     "data": {
      "text/plain": [
       "Datasets(train=<tensorflow.contrib.learn.python.learn.datasets.mnist.DataSet object at 0x7f0a32278410>, validation=<tensorflow.contrib.learn.python.learn.datasets.mnist.DataSet object at 0x7f0a94d2c110>, test=<tensorflow.contrib.learn.python.learn.datasets.mnist.DataSet object at 0x7f09f29edf10>)"
      ]
     },
     "execution_count": 2,
     "metadata": {},
     "output_type": "execute_result"
    }
   ],
   "source": [
    "# Import MNIST data\n",
    "batch_size = 256\n",
    "\n",
    "# mnist variable is an instance of the DataSet class.\n",
    "mnist = input_data.read_data_sets(\"MNIST_data/\")\n",
    "mnist"
   ]
  },
  {
   "cell_type": "code",
   "execution_count": 3,
   "metadata": {
    "collapsed": false,
    "deletable": true,
    "editable": true
   },
   "outputs": [
    {
     "name": "stdout",
     "output_type": "stream",
     "text": [
      "Number of training images with shape [784]: 55000\n",
      "Number of training labels: 55000\n",
      "\n",
      "Number of test images with shape [784]: 10000\n",
      "Number of test labels: 10000\n",
      "\n",
      "Number of validation images with shape [784]: 5000\n",
      "Number of validation labels: 5000\n"
     ]
    }
   ],
   "source": [
    "#check that the data is correct\n",
    "print 'Number of training images with shape %s: %s' % \\\n",
    "    (list(np.shape(mnist.train.images)[1:]),np.shape(mnist.train.images)[0])\n",
    "print 'Number of training labels: %s' % \\\n",
    "    (np.shape(mnist.train.labels)[0])\n",
    "print\n",
    "print 'Number of test images with shape %s: %s' % \\\n",
    "    (list(np.shape(mnist.test.images)[1:]),np.shape(mnist.test.images)[0])\n",
    "print 'Number of test labels: %s' % \\\n",
    "    (np.shape(mnist.test.labels)[0])\n",
    "print\n",
    "print 'Number of validation images with shape %s: %s' % \\\n",
    "    (list(np.shape(mnist.validation.images)[1:]),np.shape(mnist.validation.images)[0])\n",
    "print 'Number of validation labels: %s' % \\\n",
    "    (np.shape(mnist.validation.labels)[0])"
   ]
  },
  {
   "cell_type": "code",
   "execution_count": 4,
   "metadata": {
    "collapsed": false,
    "deletable": true,
    "editable": true
   },
   "outputs": [
    {
     "data": {
      "image/png": "[encoded data removed]",
      "text/plain": [
       "<matplotlib.figure.Figure at 0x7f09f299eb50>"
      ]
     },
     "metadata": {},
     "output_type": "display_data"
    },
    {
     "name": "stdout",
     "output_type": "stream",
     "text": [
      "^ 1\n"
     ]
    },
    {
     "data": {
      "image/png": "[encoded data removed]",
      "text/plain": [
       "<matplotlib.figure.Figure at 0x7f09f299ef50>"
      ]
     },
     "metadata": {},
     "output_type": "display_data"
    },
    {
     "name": "stdout",
     "output_type": "stream",
     "text": [
      "^ 9\n"
     ]
    },
    {
     "data": {
      "image/png": "[encoded data removed]",
      "text/plain": [
       "<matplotlib.figure.Figure at 0x7f09f083ab50>"
      ]
     },
     "metadata": {},
     "output_type": "display_data"
    },
    {
     "name": "stdout",
     "output_type": "stream",
     "text": [
      "^ 5\n"
     ]
    }
   ],
   "source": [
    "#print out 3 examples of the data to really ensure it's correct\n",
    "import numpy as NP\n",
    "import matplotlib.pyplot as P\n",
    "import matplotlib.ticker as MT\n",
    "import matplotlib.cm as CM\n",
    "\n",
    "def imagesc(W, pixwidth=1, ax=None, grayscale=True):\n",
    "    \"\"\"\n",
    "    Do intensity plot, similar to MATLAB imagesc()\n",
    "    W = intensity matrix to visualize\n",
    "    pixwidth = size of each W element\n",
    "    ax = matplotlib Axes to draw on \n",
    "    grayscale = use grayscale color map\n",
    "    Rely on caller to .show()\n",
    "    \"\"\"\n",
    "    # N = rows, M = column\n",
    "    (N, M) = W.shape \n",
    "    # Need to create a new Axes?\n",
    "    if(ax == None):\n",
    "        ax = matplotlib.pyplot.figure().gca()\n",
    "    # extents = Left Right Bottom Top\n",
    "    exts = (0, pixwidth * M, 0, pixwidth * N)\n",
    "    if(grayscale):\n",
    "        ax.imshow(W,\n",
    "                  interpolation='nearest',\n",
    "                  cmap=matplotlib.cm.gray,\n",
    "                  extent=exts)\n",
    "    else:\n",
    "        ax.imshow(W,\n",
    "                  interpolation='nearest',\n",
    "                  extent=exts)\n",
    "        \n",
    "    matplotlib.pyplot.show()\n",
    "#     return ax\n",
    "\n",
    "\n",
    "for _ in range(3):\n",
    "    a=randint(1,1000)\n",
    "    imagesc(np.reshape(mnist.train.images[a,:],(28,28))),\n",
    "    print '^', mnist.train.labels[a]"
   ]
  },
  {
   "cell_type": "code",
   "execution_count": 5,
   "metadata": {
    "collapsed": false,
    "deletable": true,
    "editable": true
   },
   "outputs": [],
   "source": [
    "sess = tf.Session()"
   ]
  },
  {
   "cell_type": "code",
   "execution_count": 6,
   "metadata": {
    "collapsed": false,
    "deletable": true,
    "editable": true
   },
   "outputs": [
    {
     "name": "stdout",
     "output_type": "stream",
     "text": [
      "[256, 784]\n"
     ]
    }
   ],
   "source": [
    "#initialize the benchmark model\n",
    "with tf.variable_scope(\"benchmark\"):\n",
    "    simple_fc_output, pre_hidden, hidden, etc = mnist_benchmark( tf.constant(mnist.train.images[0:256]))\n",
    "    \n",
    "fc1, fc2, fc1b, fc2b = etc['weights']"
   ]
  },
  {
   "cell_type": "code",
   "execution_count": 7,
   "metadata": {
    "collapsed": false
   },
   "outputs": [
    {
     "data": {
      "text/plain": [
       "u'benchmark/fcw1:0'"
      ]
     },
     "execution_count": 7,
     "metadata": {},
     "output_type": "execute_result"
    }
   ],
   "source": [
    "#check that the names are correctly scoped\n",
    "fc1.name"
   ]
  },
  {
   "cell_type": "code",
   "execution_count": 8,
   "metadata": {
    "collapsed": false
   },
   "outputs": [
    {
     "name": "stdout",
     "output_type": "stream",
     "text": [
      "Unicycle Initialized\n",
      "\n",
      "        Welcome to\n",
      "\n",
      "$$\\   $$\\ $$\\   $$\\ $$$$$$\\  $$$$$$\\ $$\\     $$\\  $$$$$$\\  $$\\       $$$$$$$$\\\n",
      "$$ |  $$ |$$$\\  $$ |\\_$$  _|$$  __$$\\\\$$\\   $$  |$$  __$$\\ $$ |      $$  _____|\n",
      "$$ |  $$ |$$$$\\ $$ |  $$ |  $$ /  \\__|\\$$\\ $$  / $$ /  \\__|$$ |      $$ |\n",
      "$$ |  $$ |$$ $$\\$$ |  $$ |  $$ |       \\$$$$  /  $$ |      $$ |      $$$$$\\\n",
      "$$ |  $$ |$$ \\$$$$ |  $$ |  $$ |        \\$$  /   $$ |      $$ |      $$  __|\n",
      "$$ |  $$ |$$ |\\$$$ |  $$ |  $$ |  $$\\    $$ |    $$ |  $$\\ $$ |      $$ |\n",
      "\\$$$$$$  |$$ | \\$$ |$$$$$$\\ \\$$$$$$  |   $$ |    \\$$$$$$  |$$$$$$$$\\ $$$$$$$$\\\n",
      " \\______/ \\__|  \\__|\\______| \\______/    \\__|     \\______/ \\________|\\________|\n",
      "\n",
      "        *The Universal Neural Interpretation and Cyclicity Engine\n",
      "\n",
      "\n",
      "======\n",
      "STEP 1\n",
      " JSON Import and Parse\n",
      "====================== \n",
      "\n",
      "Using JSON file SAMPLE_MNIST_V2.JSON for import... done! \n",
      "\n",
      "Checking the integrity of the JSON file... done! \n",
      "\n",
      "======\n",
      "STEP 2\n",
      " Network-X Raw Build\n",
      "====== \n",
      "\n",
      "Building Network-X Raw DiGraph... \n",
      "\n",
      "Network-X Raw Graph created! Nodes: \n",
      "    fc_1\n",
      "    fc_2\n",
      "    image_input_1 \n",
      "\n",
      "Root nodes: \n",
      "    image_input_1 \n",
      "\n",
      "Finding all non-ancestral dependeny links in the Graph... done! \n",
      "\n",
      "======\n",
      "STEP 3\n",
      " Input Size Calculation\n",
      "====== \n",
      "\n",
      "Starting the node traversal for size calculation. \n",
      "\n",
      "Counting up the sizes for node fc_1 \n",
      "\n",
      "Incoming sizes of fc_1: {'image_input_1': ([256, 784], [])} \n",
      "\n",
      " ... done!\n",
      "Counting up the sizes for node fc_2 \n",
      "\n",
      "Incoming sizes of fc_2: {'fc_1': ([256, 2048], [['image_input_1', 'fc_1']])} \n",
      "\n",
      " ... done!\n",
      " \n",
      "\n",
      "Final Node Output Sizes:\n",
      "   fc_1         :[256, 2048]\n",
      "   fc_2         :[256, 10]\n",
      "   image_input_1:[256, 784]\n",
      "\n",
      "\n",
      "All sizes calculated! \n",
      "\n",
      "======\n",
      "STEP 4\n",
      " TF Node Creation\n",
      "======================== \n",
      "\n",
      "\n",
      "                         =*===\n",
      "    It's all           $$- - $$$\n",
      "    running well,      $ <    D$$\n",
      "    my master          $ -   $$$\n",
      "                 ,     $$$$  |\n",
      "                ///; ,---' _ |----.\n",
      "    Let us       \\ )(           /  )\n",
      "    begin our    | \\/ \\.   '  _.|  \\              $\n",
      "    training!    |  \\ /(   /    /\\_ \\          $$$$$\n",
      "                  \\ /  (       / /  )         $$$ $$$\n",
      "                       (  ,   /_/ ,`_,-----.,$$  $$$\n",
      "                       |   <----|  \\---##     \\   $$\n",
      "                       /         ***           |    $\n",
      "                      '   '                    |\n",
      "                      |                 \\      /\n",
      "                      /  \\_|    /______,/     /\n",
      "                     /   / |   /    |   |    /\n",
      "                    (   /--|  /.     \\  (\\  (_\n",
      "                     `----,( ( _\\     \\ / / ,/\n",
      "                           | /        /,_/,/\n",
      "                          _|/        / / (\n",
      "                         / (        ^-/, |\n",
      "                        /, |          ^-\n",
      "                        ^-\n",
      "     \n",
      "\n",
      "======\n",
      "TF Unroller\n",
      "======================== \n",
      "\n",
      "GenFuncCell call of node fc_1\n",
      " Harbor call of cell fc_1:\n",
      " Inputs: {'image_input_1': <tf.Tensor 'unicycle/zeros_6:0' shape=(256, 784) dtype=float32>}\n",
      " Resizing output of node image_input_1\n",
      " TF Size: [256, 784]\n",
      " Harbor post-policy inputs:\n",
      " +-  Tensor(\"unicycle/zeros_6:0\", shape=(256, 784), dtype=float32)\n",
      " Harbor of fc_1 >>  out size [256, 784]\n",
      "  Using Harbor output: Tensor(\"unicycle/fc_1_harbor_concat:0\", shape=(256, 784), dtype=float32)\n",
      "  GenFuncCell of node fc_1 >>  post-Harbor size [256, 784]\n",
      "--> fc_1__f1\n",
      "  GenFuncCell of node fc_1 >>  post-state size [256, 2048]\n",
      "  GenFuncCell of node fc_1 >>  pre-memory state size [256, 2048]\n",
      "    fc_1 MEMORY CALLED! Decay param name: unicycle/decay_param_fc_1:0\n",
      "  GenFuncCell of node fc_1 >>  post-memory state size [256, 2048]\n",
      "  GenFuncCell of node fc_1 >>  post-out-func size [256, 2048]\n",
      "\n",
      "GenFuncCell call of node fc_2\n",
      " Harbor call of cell fc_2:\n",
      " Inputs: {'fc_1': <tf.Tensor 'unicycle/zeros_2:0' shape=(256, 2048) dtype=float32>}\n",
      " Resizing output of node fc_1\n",
      " TF Size: [256, 2048]\n",
      " Harbor post-policy inputs:\n",
      " +-  Tensor(\"unicycle/zeros_2:0\", shape=(256, 2048), dtype=float32)\n",
      " Harbor of fc_2 >>  out size [256, 2048]\n",
      "  Using Harbor output: Tensor(\"unicycle/fc_2_harbor_concat:0\", shape=(256, 2048), dtype=float32)\n",
      "  GenFuncCell of node fc_2 >>  post-Harbor size [256, 2048]\n",
      "  GenFuncCell of node fc_2 >>  post-state size [256, 10]\n",
      "  GenFuncCell of node fc_2 >>  pre-memory state size [256, 10]\n",
      "    fc_2 MEMORY CALLED! Decay param name: unicycle/decay_param_fc_2:0\n",
      "  GenFuncCell of node fc_2 >>  post-memory state size [256, 10]\n",
      "  GenFuncCell of node fc_2 >>  post-out-func size [256, 10]\n",
      "\n",
      "GenFuncCell call of node fc_1\n",
      " Harbor call of cell fc_1:\n",
      " Inputs: {'image_input_1': <tf.Tensor 'unicycle/Const:0' shape=(256, 784) dtype=float32>}\n",
      " Resizing output of node image_input_1\n",
      " TF Size: [256, 784]\n",
      " Harbor post-policy inputs:\n",
      " +-  Tensor(\"unicycle/Const:0\", shape=(256, 784), dtype=float32)\n",
      " Harbor of fc_1 >>  out size [256, 784]\n",
      "  Using Harbor output: Tensor(\"unicycle/fc_1_harbor_concat_1:0\", shape=(256, 784), dtype=float32)\n",
      "  GenFuncCell of node fc_1 >>  post-Harbor size [256, 784]\n",
      "  GenFuncCell of node fc_1 >>  post-state size [256, 2048]\n",
      "  GenFuncCell of node fc_1 >>  pre-memory state size [256, 2048]\n",
      "    fc_1 MEMORY CALLED! Decay param name: unicycle/decay_param_fc_1:0\n",
      "  GenFuncCell of node fc_1 >>  post-memory state size [256, 2048]\n",
      "  GenFuncCell of node fc_1 >>  post-out-func size [256, 2048]\n",
      "\n",
      "GenFuncCell call of node fc_2\n",
      " Harbor call of cell fc_2:\n",
      " Inputs: {'fc_1': <tf.Tensor 'unicycle/add:0' shape=(256, 2048) dtype=float32>}\n",
      " Resizing output of node fc_1\n",
      " TF Size: [256, 2048]\n",
      " Harbor post-policy inputs:\n",
      " +-  Tensor(\"unicycle/add:0\", shape=(256, 2048), dtype=float32)\n",
      " Harbor of fc_2 >>  out size [256, 2048]\n",
      "  Using Harbor output: Tensor(\"unicycle/fc_2_harbor_concat_1:0\", shape=(256, 2048), dtype=float32)\n",
      "  GenFuncCell of node fc_2 >>  post-Harbor size [256, 2048]\n",
      "  GenFuncCell of node fc_2 >>  post-state size [256, 10]\n",
      "  GenFuncCell of node fc_2 >>  pre-memory state size [256, 10]\n",
      "    fc_2 MEMORY CALLED! Decay param name: unicycle/decay_param_fc_2:0\n",
      "  GenFuncCell of node fc_2 >>  post-memory state size [256, 10]\n",
      "  GenFuncCell of node fc_2 >>  post-out-func size [256, 10]\n",
      "\n",
      "GenFuncCell call of node fc_1\n",
      " Harbor call of cell fc_1:\n",
      " Inputs: {'image_input_1': <tf.Tensor 'unicycle/Const:0' shape=(256, 784) dtype=float32>}\n",
      " Resizing output of node image_input_1\n",
      " TF Size: [256, 784]\n",
      " Harbor post-policy inputs:\n",
      " +-  Tensor(\"unicycle/Const:0\", shape=(256, 784), dtype=float32)\n",
      " Harbor of fc_1 >>  out size [256, 784]\n",
      "  Using Harbor output: Tensor(\"unicycle/fc_1_harbor_concat_2:0\", shape=(256, 784), dtype=float32)\n",
      "  GenFuncCell of node fc_1 >>  post-Harbor size [256, 784]\n",
      "  GenFuncCell of node fc_1 >>  post-state size [256, 2048]\n",
      "  GenFuncCell of node fc_1 >>  pre-memory state size [256, 2048]\n",
      "    fc_1 MEMORY CALLED! Decay param name: unicycle/decay_param_fc_1:0\n",
      "  GenFuncCell of node fc_1 >>  post-memory state size [256, 2048]\n",
      "  GenFuncCell of node fc_1 >>  post-out-func size [256, 2048]\n",
      "\n",
      "GenFuncCell call of node fc_2\n",
      " Harbor call of cell fc_2:\n",
      " Inputs: {'fc_1': <tf.Tensor 'unicycle/add_2:0' shape=(256, 2048) dtype=float32>}\n",
      " Resizing output of node fc_1\n",
      " TF Size: [256, 2048]\n",
      " Harbor post-policy inputs:\n",
      " +-  Tensor(\"unicycle/add_2:0\", shape=(256, 2048), dtype=float32)\n",
      " Harbor of fc_2 >>  out size [256, 2048]\n",
      "  Using Harbor output: Tensor(\"unicycle/fc_2_harbor_concat_2:0\", shape=(256, 2048), dtype=float32)\n",
      "  GenFuncCell of node fc_2 >>  post-Harbor size [256, 2048]\n",
      "  GenFuncCell of node fc_2 >>  post-state size [256, 10]\n",
      "  GenFuncCell of node fc_2 >>  pre-memory state size [256, 10]\n",
      "    fc_2 MEMORY CALLED! Decay param name: unicycle/decay_param_fc_2:0\n",
      "  GenFuncCell of node fc_2 >>  post-memory state size [256, 10]\n",
      "  GenFuncCell of node fc_2 >>  post-out-func size [256, 10]\n",
      "\n",
      "GenFuncCell call of node fc_1\n",
      " Harbor call of cell fc_1:\n",
      " Inputs: {'image_input_1': <tf.Tensor 'unicycle/Const:0' shape=(256, 784) dtype=float32>}\n",
      " Resizing output of node image_input_1\n",
      " TF Size: [256, 784]\n",
      " Harbor post-policy inputs:\n",
      " +-  Tensor(\"unicycle/Const:0\", shape=(256, 784), dtype=float32)\n",
      " Harbor of fc_1 >>  out size [256, 784]\n",
      "  Using Harbor output: Tensor(\"unicycle/fc_1_harbor_concat_3:0\", shape=(256, 784), dtype=float32)\n",
      "  GenFuncCell of node fc_1 >>  post-Harbor size [256, 784]\n",
      "  GenFuncCell of node fc_1 >>  post-state size [256, 2048]\n",
      "  GenFuncCell of node fc_1 >>  pre-memory state size [256, 2048]\n",
      "    fc_1 MEMORY CALLED! Decay param name: unicycle/decay_param_fc_1:0\n",
      "  GenFuncCell of node fc_1 >>  post-memory state size [256, 2048]\n",
      "  GenFuncCell of node fc_1 >>  post-out-func size [256, 2048]\n",
      "\n",
      "GenFuncCell call of node fc_2\n",
      " Harbor call of cell fc_2:\n",
      " Inputs: {'fc_1': <tf.Tensor 'unicycle/add_4:0' shape=(256, 2048) dtype=float32>}\n",
      " Resizing output of node fc_1\n",
      " TF Size: [256, 2048]\n",
      " Harbor post-policy inputs:\n",
      " +-  Tensor(\"unicycle/add_4:0\", shape=(256, 2048), dtype=float32)\n",
      " Harbor of fc_2 >>  out size [256, 2048]\n",
      "  Using Harbor output: Tensor(\"unicycle/fc_2_harbor_concat_3:0\", shape=(256, 2048), dtype=float32)\n",
      "  GenFuncCell of node fc_2 >>  post-Harbor size [256, 2048]\n",
      "  GenFuncCell of node fc_2 >>  post-state size [256, 10]\n",
      "  GenFuncCell of node fc_2 >>  pre-memory state size [256, 10]\n",
      "    fc_2 MEMORY CALLED! Decay param name: unicycle/decay_param_fc_2:0\n",
      "  GenFuncCell of node fc_2 >>  post-memory state size [256, 10]\n",
      "  GenFuncCell of node fc_2 >>  post-out-func size [256, 10]\n",
      "\n",
      "GenFuncCell call of node fc_1\n",
      " Harbor call of cell fc_1:\n",
      " Inputs: {'image_input_1': <tf.Tensor 'unicycle/Const:0' shape=(256, 784) dtype=float32>}\n",
      " Resizing output of node image_input_1\n",
      " TF Size: [256, 784]\n",
      " Harbor post-policy inputs:\n",
      " +-  Tensor(\"unicycle/Const:0\", shape=(256, 784), dtype=float32)\n",
      " Harbor of fc_1 >>  out size [256, 784]\n",
      "  Using Harbor output: Tensor(\"unicycle/fc_1_harbor_concat_4:0\", shape=(256, 784), dtype=float32)\n",
      "  GenFuncCell of node fc_1 >>  post-Harbor size [256, 784]\n",
      "  GenFuncCell of node fc_1 >>  post-state size [256, 2048]\n",
      "  GenFuncCell of node fc_1 >>  pre-memory state size [256, 2048]\n",
      "    fc_1 MEMORY CALLED! Decay param name: unicycle/decay_param_fc_1:0\n",
      "  GenFuncCell of node fc_1 >>  post-memory state size [256, 2048]\n",
      "  GenFuncCell of node fc_1 >>  post-out-func size [256, 2048]\n",
      "\n",
      "GenFuncCell call of node fc_2\n",
      " Harbor call of cell fc_2:\n",
      " Inputs: {'fc_1': <tf.Tensor 'unicycle/add_6:0' shape=(256, 2048) dtype=float32>}\n",
      " Resizing output of node fc_1\n",
      " TF Size: [256, 2048]\n",
      " Harbor post-policy inputs:\n",
      " +-  Tensor(\"unicycle/add_6:0\", shape=(256, 2048), dtype=float32)\n",
      " Harbor of fc_2 >>  out size [256, 2048]\n",
      "  Using Harbor output: Tensor(\"unicycle/fc_2_harbor_concat_4:0\", shape=(256, 2048), dtype=float32)\n",
      "  GenFuncCell of node fc_2 >>  post-Harbor size [256, 2048]\n",
      "  GenFuncCell of node fc_2 >>  post-state size [256, 10]\n",
      "  GenFuncCell of node fc_2 >>  pre-memory state size [256, 10]\n",
      "    fc_2 MEMORY CALLED! Decay param name: unicycle/decay_param_fc_2:0\n",
      "  GenFuncCell of node fc_2 >>  post-memory state size [256, 10]\n",
      "  GenFuncCell of node fc_2 >>  post-out-func size [256, 10]\n",
      "\n",
      "GenFuncCell call of node fc_1\n",
      " Harbor call of cell fc_1:\n",
      " Inputs: {'image_input_1': <tf.Tensor 'unicycle/Const:0' shape=(256, 784) dtype=float32>}\n",
      " Resizing output of node image_input_1\n",
      " TF Size: [256, 784]\n",
      " Harbor post-policy inputs:\n",
      " +-  Tensor(\"unicycle/Const:0\", shape=(256, 784), dtype=float32)\n",
      " Harbor of fc_1 >>  out size [256, 784]\n",
      "  Using Harbor output: Tensor(\"unicycle/fc_1_harbor_concat_5:0\", shape=(256, 784), dtype=float32)\n",
      "  GenFuncCell of node fc_1 >>  post-Harbor size [256, 784]\n",
      "  GenFuncCell of node fc_1 >>  post-state size [256, 2048]\n",
      "  GenFuncCell of node fc_1 >>  pre-memory state size [256, 2048]\n",
      "    fc_1 MEMORY CALLED! Decay param name: unicycle/decay_param_fc_1:0\n",
      "  GenFuncCell of node fc_1 >>  post-memory state size [256, 2048]\n",
      "  GenFuncCell of node fc_1 >>  post-out-func size [256, 2048]\n",
      "\n",
      "GenFuncCell call of node fc_2\n",
      " Harbor call of cell fc_2:\n",
      " Inputs: {'fc_1': <tf.Tensor 'unicycle/add_8:0' shape=(256, 2048) dtype=float32>}\n",
      " Resizing output of node fc_1\n",
      " TF Size: [256, 2048]\n",
      " Harbor post-policy inputs:\n",
      " +-  Tensor(\"unicycle/add_8:0\", shape=(256, 2048), dtype=float32)\n",
      " Harbor of fc_2 >>  out size [256, 2048]\n",
      "  Using Harbor output: Tensor(\"unicycle/fc_2_harbor_concat_5:0\", shape=(256, 2048), dtype=float32)\n",
      "  GenFuncCell of node fc_2 >>  post-Harbor size [256, 2048]\n",
      "  GenFuncCell of node fc_2 >>  post-state size [256, 10]\n",
      "  GenFuncCell of node fc_2 >>  pre-memory state size [256, 10]\n",
      "    fc_2 MEMORY CALLED! Decay param name: unicycle/decay_param_fc_2:0\n",
      "  GenFuncCell of node fc_2 >>  post-memory state size [256, 10]\n",
      "  GenFuncCell of node fc_2 >>  post-out-func size [256, 10]\n",
      "\n",
      "GenFuncCell call of node fc_1\n",
      " Harbor call of cell fc_1:\n",
      " Inputs: {'image_input_1': <tf.Tensor 'unicycle/Const:0' shape=(256, 784) dtype=float32>}\n",
      " Resizing output of node image_input_1\n",
      " TF Size: [256, 784]\n",
      " Harbor post-policy inputs:\n",
      " +-  Tensor(\"unicycle/Const:0\", shape=(256, 784), dtype=float32)\n",
      " Harbor of fc_1 >>  out size [256, 784]\n",
      "  Using Harbor output: Tensor(\"unicycle/fc_1_harbor_concat_6:0\", shape=(256, 784), dtype=float32)\n",
      "  GenFuncCell of node fc_1 >>  post-Harbor size [256, 784]\n",
      "  GenFuncCell of node fc_1 >>  post-state size [256, 2048]\n",
      "  GenFuncCell of node fc_1 >>  pre-memory state size [256, 2048]\n",
      "    fc_1 MEMORY CALLED! Decay param name: unicycle/decay_param_fc_1:0\n",
      "  GenFuncCell of node fc_1 >>  post-memory state size [256, 2048]\n",
      "  GenFuncCell of node fc_1 >>  post-out-func size [256, 2048]\n",
      "\n",
      "GenFuncCell call of node fc_2\n",
      " Harbor call of cell fc_2:\n",
      " Inputs: {'fc_1': <tf.Tensor 'unicycle/add_10:0' shape=(256, 2048) dtype=float32>}\n",
      " Resizing output of node fc_1\n",
      " TF Size: [256, 2048]\n",
      " Harbor post-policy inputs:\n",
      " +-  Tensor(\"unicycle/add_10:0\", shape=(256, 2048), dtype=float32)\n",
      " Harbor of fc_2 >>  out size [256, 2048]\n",
      "  Using Harbor output: Tensor(\"unicycle/fc_2_harbor_concat_6:0\", shape=(256, 2048), dtype=float32)\n",
      "  GenFuncCell of node fc_2 >>  post-Harbor size [256, 2048]\n",
      "  GenFuncCell of node fc_2 >>  post-state size [256, 10]\n",
      "  GenFuncCell of node fc_2 >>  pre-memory state size [256, 10]\n",
      "    fc_2 MEMORY CALLED! Decay param name: unicycle/decay_param_fc_2:0\n",
      "  GenFuncCell of node fc_2 >>  post-memory state size [256, 10]\n",
      "  GenFuncCell of node fc_2 >>  post-out-func size [256, 10]\n",
      "\n",
      "GenFuncCell call of node fc_1\n",
      " Harbor call of cell fc_1:\n",
      " Inputs: {'image_input_1': <tf.Tensor 'unicycle/Const:0' shape=(256, 784) dtype=float32>}\n",
      " Resizing output of node image_input_1\n",
      " TF Size: [256, 784]\n",
      " Harbor post-policy inputs:\n",
      " +-  Tensor(\"unicycle/Const:0\", shape=(256, 784), dtype=float32)\n",
      " Harbor of fc_1 >>  out size [256, 784]\n",
      "  Using Harbor output: Tensor(\"unicycle/fc_1_harbor_concat_7:0\", shape=(256, 784), dtype=float32)\n",
      "  GenFuncCell of node fc_1 >>  post-Harbor size [256, 784]\n",
      "  GenFuncCell of node fc_1 >>  post-state size [256, 2048]\n",
      "  GenFuncCell of node fc_1 >>  pre-memory state size [256, 2048]\n",
      "    fc_1 MEMORY CALLED! Decay param name: unicycle/decay_param_fc_1:0\n",
      "  GenFuncCell of node fc_1 >>  post-memory state size [256, 2048]\n",
      "  GenFuncCell of node fc_1 >>  post-out-func size [256, 2048]\n",
      "\n",
      "GenFuncCell call of node fc_2\n",
      " Harbor call of cell fc_2:\n",
      " Inputs: {'fc_1': <tf.Tensor 'unicycle/add_12:0' shape=(256, 2048) dtype=float32>}\n",
      " Resizing output of node fc_1\n",
      " TF Size: [256, 2048]\n",
      " Harbor post-policy inputs:\n",
      " +-  Tensor(\"unicycle/add_12:0\", shape=(256, 2048), dtype=float32)\n",
      " Harbor of fc_2 >>  out size [256, 2048]\n",
      "  Using Harbor output: Tensor(\"unicycle/fc_2_harbor_concat_7:0\", shape=(256, 2048), dtype=float32)\n",
      "  GenFuncCell of node fc_2 >>  post-Harbor size [256, 2048]\n",
      "  GenFuncCell of node fc_2 >>  post-state size [256, 10]\n",
      "  GenFuncCell of node fc_2 >>  pre-memory state size [256, 10]\n",
      "    fc_2 MEMORY CALLED! Decay param name: unicycle/decay_param_fc_2:0\n",
      "  GenFuncCell of node fc_2 >>  post-memory state size [256, 10]\n",
      "  GenFuncCell of node fc_2 >>  post-out-func size [256, 10]\n",
      "\n",
      "GenFuncCell call of node fc_1\n",
      " Harbor call of cell fc_1:\n",
      " Inputs: {'image_input_1': <tf.Tensor 'unicycle/Const:0' shape=(256, 784) dtype=float32>}\n",
      " Resizing output of node image_input_1\n",
      " TF Size: [256, 784]\n",
      " Harbor post-policy inputs:\n",
      " +-  Tensor(\"unicycle/Const:0\", shape=(256, 784), dtype=float32)\n",
      " Harbor of fc_1 >>  out size [256, 784]\n",
      "  Using Harbor output: Tensor(\"unicycle/fc_1_harbor_concat_8:0\", shape=(256, 784), dtype=float32)\n",
      "  GenFuncCell of node fc_1 >>  post-Harbor size [256, 784]\n",
      "  GenFuncCell of node fc_1 >>  post-state size [256, 2048]\n",
      "  GenFuncCell of node fc_1 >>  pre-memory state size [256, 2048]\n",
      "    fc_1 MEMORY CALLED! Decay param name: unicycle/decay_param_fc_1:0\n",
      "  GenFuncCell of node fc_1 >>  post-memory state size [256, 2048]\n",
      "  GenFuncCell of node fc_1 >>  post-out-func size [256, 2048]\n",
      "\n",
      "GenFuncCell call of node fc_2\n",
      " Harbor call of cell fc_2:\n",
      " Inputs: {'fc_1': <tf.Tensor 'unicycle/add_14:0' shape=(256, 2048) dtype=float32>}\n",
      " Resizing output of node fc_1\n",
      " TF Size: [256, 2048]\n",
      " Harbor post-policy inputs:\n",
      " +-  Tensor(\"unicycle/add_14:0\", shape=(256, 2048), dtype=float32)\n",
      " Harbor of fc_2 >>  out size [256, 2048]\n",
      "  Using Harbor output: Tensor(\"unicycle/fc_2_harbor_concat_8:0\", shape=(256, 2048), dtype=float32)\n",
      "  GenFuncCell of node fc_2 >>  post-Harbor size [256, 2048]\n",
      "  GenFuncCell of node fc_2 >>  post-state size [256, 10]\n",
      "  GenFuncCell of node fc_2 >>  pre-memory state size [256, 10]\n",
      "    fc_2 MEMORY CALLED! Decay param name: unicycle/decay_param_fc_2:0\n",
      "  GenFuncCell of node fc_2 >>  post-memory state size [256, 10]\n",
      "  GenFuncCell of node fc_2 >>  post-out-func size [256, 10]\n",
      "\n",
      "GenFuncCell call of node fc_1\n",
      " Harbor call of cell fc_1:\n",
      " Inputs: {'image_input_1': <tf.Tensor 'unicycle/Const:0' shape=(256, 784) dtype=float32>}\n",
      " Resizing output of node image_input_1\n",
      " TF Size: [256, 784]\n",
      " Harbor post-policy inputs:\n",
      " +-  Tensor(\"unicycle/Const:0\", shape=(256, 784), dtype=float32)\n",
      " Harbor of fc_1 >>  out size [256, 784]\n",
      "  Using Harbor output: Tensor(\"unicycle/fc_1_harbor_concat_9:0\", shape=(256, 784), dtype=float32)\n",
      "  GenFuncCell of node fc_1 >>  post-Harbor size [256, 784]\n",
      "  GenFuncCell of node fc_1 >>  post-state size [256, 2048]\n",
      "  GenFuncCell of node fc_1 >>  pre-memory state size [256, 2048]\n",
      "    fc_1 MEMORY CALLED! Decay param name: unicycle/decay_param_fc_1:0\n",
      "  GenFuncCell of node fc_1 >>  post-memory state size [256, 2048]\n",
      "  GenFuncCell of node fc_1 >>  post-out-func size [256, 2048]\n",
      "\n",
      "GenFuncCell call of node fc_2\n",
      " Harbor call of cell fc_2:\n",
      " Inputs: {'fc_1': <tf.Tensor 'unicycle/add_16:0' shape=(256, 2048) dtype=float32>}\n",
      " Resizing output of node fc_1\n",
      " TF Size: [256, 2048]\n",
      " Harbor post-policy inputs:\n",
      " +-  Tensor(\"unicycle/add_16:0\", shape=(256, 2048), dtype=float32)\n",
      " Harbor of fc_2 >>  out size [256, 2048]\n",
      "  Using Harbor output: Tensor(\"unicycle/fc_2_harbor_concat_9:0\", shape=(256, 2048), dtype=float32)\n",
      "  GenFuncCell of node fc_2 >>  post-Harbor size [256, 2048]\n",
      "  GenFuncCell of node fc_2 >>  post-state size [256, 10]\n",
      "  GenFuncCell of node fc_2 >>  pre-memory state size [256, 10]\n",
      "    fc_2 MEMORY CALLED! Decay param name: unicycle/decay_param_fc_2:0\n",
      "  GenFuncCell of node fc_2 >>  post-memory state size [256, 10]\n",
      "  GenFuncCell of node fc_2 >>  post-out-func size [256, 10]\n",
      "\n",
      "Unroller successfully unrolled Graph! 30 nodes unrolled\n"
     ]
    }
   ],
   "source": [
    "#now let's initialize the unicycle model\n",
    "with tf.variable_scope(\"unicycle\"):\n",
    "    unicycle_model = Unicycle()\n",
    "    G = unicycle_model.build(json_file_name='sample_mnist_v2.json')\n",
    "    last_ = unicycle_model({'images': tf.constant(mnist.train.images[0:256])}, G)"
   ]
  },
  {
   "cell_type": "code",
   "execution_count": 9,
   "metadata": {
    "collapsed": true
   },
   "outputs": [],
   "source": [
    "# Initialize all the variables now that they model graphs are constructed\n",
    "sess.run(tf.global_variables_initializer())\n"
   ]
  },
  {
   "cell_type": "code",
   "execution_count": 10,
   "metadata": {
    "collapsed": false,
    "deletable": true,
    "editable": true
   },
   "outputs": [],
   "source": [
    "#run the benchmark model\n",
    "with tf.variable_scope('simple'):\n",
    "    result, result_prehidden, result_hidden, fc1r, fc2r = sess.run([simple_fc_output, pre_hidden, hidden, fc1, fc2])"
   ]
  },
  {
   "cell_type": "code",
   "execution_count": 11,
   "metadata": {
    "collapsed": false
   },
   "outputs": [
    {
     "name": "stdout",
     "output_type": "stream",
     "text": [
      "[u'benchmark/fcw1:0', u'benchmark/fcb1:0', u'benchmark/fcw2:0', u'benchmark/fcb2:0', u'unicycle/weights_fc_1:0', u'unicycle/biases_fc_1:0', u'unicycle/decay_param_fc_1:0', u'unicycle/weights_fc_2:0', u'unicycle/biases_fc_2:0', u'unicycle/decay_param_fc_2:0']\n"
     ]
    }
   ],
   "source": [
    "#let's check the variable names -- we should see variables for both the benchmark and the unicycle models\n",
    "vars = tf.global_variables()\n",
    "print ([_v.name for _v in vars])"
   ]
  },
  {
   "cell_type": "code",
   "execution_count": 12,
   "metadata": {
    "collapsed": false,
    "deletable": true,
    "editable": true
   },
   "outputs": [],
   "source": [
    "# actually run the unicycle model\n",
    "outu, outu1, fc1ur, fc2ur, fc1urb, fc2urb = sess.run([G.node['fc_2']['tf_cell'].get_state(),\n",
    "                                                      G.node['fc_1']['tf_cell'].get_state(),\n",
    "                               vars[4],  #chosen by look at the name above ... \n",
    "                               vars[7],\n",
    "                               vars[5],\n",
    "                               vars[8]])"
   ]
  },
  {
   "cell_type": "code",
   "execution_count": 13,
   "metadata": {
    "collapsed": false
   },
   "outputs": [
    {
     "data": {
      "text/plain": [
       "array([[ 0.,  0.,  0., ...,  0.,  0.,  0.],\n",
       "       [ 0.,  0.,  0., ...,  0.,  0.,  0.],\n",
       "       [ 0.,  0.,  0., ...,  0.,  0.,  0.],\n",
       "       ..., \n",
       "       [ 0.,  0.,  0., ...,  0.,  0.,  0.],\n",
       "       [ 0.,  0.,  0., ...,  0.,  0.,  0.],\n",
       "       [ 0.,  0.,  0., ...,  0.,  0.,  0.]], dtype=float32)"
      ]
     },
     "execution_count": 13,
     "metadata": {},
     "output_type": "execute_result"
    }
   ],
   "source": [
    "#are the filters the same? -- the ought to be absolutely identical before training at least\n",
    "np.abs(fc1ur - fc1r)"
   ]
  },
  {
   "cell_type": "code",
   "execution_count": 14,
   "metadata": {
    "collapsed": false
   },
   "outputs": [
    {
     "data": {
      "text/plain": [
       "array([[ 0.,  0.,  0., ...,  0.,  0.,  0.],\n",
       "       [ 0.,  0.,  0., ...,  0.,  0.,  0.],\n",
       "       [ 0.,  0.,  0., ...,  0.,  0.,  0.],\n",
       "       ..., \n",
       "       [ 0.,  0.,  0., ...,  0.,  0.,  0.],\n",
       "       [ 0.,  0.,  0., ...,  0.,  0.,  0.],\n",
       "       [ 0.,  0.,  0., ...,  0.,  0.,  0.]], dtype=float32)"
      ]
     },
     "execution_count": 14,
     "metadata": {},
     "output_type": "execute_result"
    }
   ],
   "source": [
    "np.abs(fc2ur - fc2r)"
   ]
  },
  {
   "cell_type": "code",
   "execution_count": 15,
   "metadata": {
    "collapsed": false
   },
   "outputs": [
    {
     "data": {
      "text/plain": [
       "array([[ 0.,  0.,  0., ...,  0.,  0.,  0.],\n",
       "       [ 0.,  0.,  0., ...,  0.,  0.,  0.],\n",
       "       [ 0.,  0.,  0., ...,  0.,  0.,  0.],\n",
       "       ..., \n",
       "       [ 0.,  0.,  0., ...,  0.,  0.,  0.],\n",
       "       [ 0.,  0.,  0., ...,  0.,  0.,  0.],\n",
       "       [ 0.,  0.,  0., ...,  0.,  0.,  0.]], dtype=float32)"
      ]
     },
     "execution_count": 15,
     "metadata": {},
     "output_type": "execute_result"
    }
   ],
   "source": [
    "#are the outputs in the hidden layer the same?\n",
    "np.abs(outu1 - result_hidden)"
   ]
  },
  {
   "cell_type": "code",
   "execution_count": 16,
   "metadata": {
    "collapsed": false
   },
   "outputs": [
    {
     "data": {
      "text/plain": [
       "array([[ 0.,  0.,  0., ...,  0.,  0.,  0.],\n",
       "       [ 0.,  0.,  0., ...,  0.,  0.,  0.],\n",
       "       [ 0.,  0.,  0., ...,  0.,  0.,  0.],\n",
       "       ..., \n",
       "       [ 0.,  0.,  0., ...,  0.,  0.,  0.],\n",
       "       [ 0.,  0.,  0., ...,  0.,  0.,  0.],\n",
       "       [ 0.,  0.,  0., ...,  0.,  0.,  0.]], dtype=float32)"
      ]
     },
     "execution_count": 16,
     "metadata": {},
     "output_type": "execute_result"
    }
   ],
   "source": [
    "#are the outputs final outputs the same>\n",
    "np.abs(outu - result)"
   ]
  },
  {
   "cell_type": "code",
   "execution_count": 17,
   "metadata": {
    "collapsed": false
   },
   "outputs": [
    {
     "data": {
      "text/plain": [
       "array([ 0.,  0.,  0.,  0.,  0.,  0.,  0.,  0.,  0.,  0.,  0.,  0.,  0.,\n",
       "        0.,  0.,  0.,  0.,  0.,  0.,  0.,  0.,  0.,  0.,  0.,  0.,  0.,\n",
       "        0.,  0.,  0.,  0.,  0.,  0.,  0.,  0.,  0.,  0.,  0.,  0.,  0.,\n",
       "        0.,  0.,  0.,  0.,  0.,  0.,  0.,  0.,  0.,  0.,  0.,  0.,  0.,\n",
       "        0.,  0.,  0.,  0.,  0.,  0.,  0.,  0.,  0.,  0.,  0.,  0.,  0.,\n",
       "        0.,  0.,  0.,  0.,  0.,  0.,  0.,  0.,  0.,  0.,  0.,  0.,  0.,\n",
       "        0.,  0.,  0.,  0.,  0.,  0.,  0.,  0.,  0.,  0.,  0.,  0.,  0.,\n",
       "        0.,  0.,  0.,  0.,  0.,  0.,  0.,  0.,  0.,  0.,  0.,  0.,  0.,\n",
       "        0.,  0.,  0.,  0.,  0.,  0.,  0.,  0.,  0.,  0.,  0.,  0.,  0.,\n",
       "        0.,  0.,  0.,  0.,  0.,  0.,  0.,  0.,  0.,  0.,  0.,  0.,  0.,\n",
       "        0.,  0.,  0.,  0.,  0.,  0.,  0.,  0.,  0.,  0.,  0.,  0.,  0.,\n",
       "        0.,  0.,  0.,  0.,  0.,  0.,  0.,  0.,  0.,  0.,  0.,  0.,  0.,\n",
       "        0.,  0.,  0.,  0.,  0.,  0.,  0.,  0.,  0.,  0.,  0.,  0.,  0.,\n",
       "        0.,  0.,  0.,  0.,  0.,  0.,  0.,  0.,  0.,  0.,  0.,  0.,  0.,\n",
       "        0.,  0.,  0.,  0.,  0.,  0.,  0.,  0.,  0.,  0.,  0.,  0.,  0.,\n",
       "        0.,  0.,  0.,  0.,  0.,  0.,  0.,  0.,  0.,  0.,  0.,  0.,  0.,\n",
       "        0.,  0.,  0.,  0.,  0.,  0.,  0.,  0.,  0.,  0.,  0.,  0.,  0.,\n",
       "        0.,  0.,  0.,  0.,  0.,  0.,  0.,  0.,  0.,  0.,  0.,  0.,  0.,\n",
       "        0.,  0.,  0.,  0.,  0.,  0.,  0.,  0.,  0.,  0.,  0.,  0.,  0.,\n",
       "        0.,  0.,  0.,  0.,  0.,  0.,  0.,  0.,  0.], dtype=float32)"
      ]
     },
     "execution_count": 17,
     "metadata": {},
     "output_type": "execute_result"
    }
   ],
   "source": [
    "#are the loss-per-image vectors the same?\n",
    "loss_uni = tf.nn.sparse_softmax_cross_entropy_with_logits(outu, np.int_(mnist.train.labels[0:256]))\n",
    "loss_bench = tf.nn.sparse_softmax_cross_entropy_with_logits(result, np.int_(mnist.train.labels[0:256]))\n",
    "loss_univ = sess.run(loss_uni)\n",
    "loss_benchv = sess.run(loss_bench)\n",
    "np.abs(loss_univ - loss_benchv)"
   ]
  },
  {
   "cell_type": "code",
   "execution_count": null,
   "metadata": {
    "collapsed": true
   },
   "outputs": [],
   "source": []
  }
 ],
 "metadata": {
  "kernelspec": {
   "display_name": "Python 2",
   "language": "python",
   "name": "python2"
  },
  "language_info": {
   "codemirror_mode": {
    "name": "ipython",
    "version": 2
   },
   "file_extension": ".py",
   "mimetype": "text/x-python",
   "name": "python",
   "nbconvert_exporter": "python",
   "pygments_lexer": "ipython2",
   "version": "2.7.12"
  }
 },
 "nbformat": 4,
 "nbformat_minor": 2
}
